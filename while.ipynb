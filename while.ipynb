{
 "cells": [
  {
   "cell_type": "code",
   "execution_count": null,
   "metadata": {},
   "outputs": [],
   "source": [
    "number = 23\n",
    "running = True\n",
    "while running:\n",
    "    guess = int(input('Enter an integer: '))\n",
    "\n",
    "    if guess == number:\n",
    "        print('You guessed it.')\n",
    "        print('(but you do not win any prizes!)')\n",
    "        running = False\n",
    "    elif guess < number:\n",
    "        print('Guess bigger, please')\n",
    "    else:\n",
    "        print('Guess smaller, please')\n",
    "\n",
    "print('The while loop is over')\n",
    "print('Done')"
   ]
  },
  {
   "cell_type": "code",
   "execution_count": null,
   "metadata": {},
   "outputs": [],
   "source": []
  }
 ],
 "metadata": {
  "kernelspec": {
   "display_name": "Python [conda env:deeplearning3]",
   "language": "python",
   "name": "conda-env-deeplearning3-py"
  },
  "language_info": {
   "codemirror_mode": {
    "name": "ipython",
    "version": 3
   },
   "file_extension": ".py",
   "mimetype": "text/x-python",
   "name": "python",
   "nbconvert_exporter": "python",
   "pygments_lexer": "ipython3",
   "version": "3.6.6"
  }
 },
 "nbformat": 4,
 "nbformat_minor": 2
}
